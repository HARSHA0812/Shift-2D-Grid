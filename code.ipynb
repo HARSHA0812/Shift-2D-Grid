{
 "cells": [
  {
   "cell_type": "code",
   "execution_count": 2,
   "id": "b116b71b",
   "metadata": {},
   "outputs": [
    {
     "name": "stdout",
     "output_type": "stream",
     "text": [
      "[[1, 2, 3], [4, 5, 6], [7, 8, 9]]\n"
     ]
    }
   ],
   "source": [
    "class Solution:\n",
    "    def shiftGrid(self, grid, k):\n",
    "        number_of_col=len(grid[0]) # Finding the number of columns in matrix\n",
    "        list_of_num_in_grid=sum(grid,[])   # Converting matrix represented in Grid into a List\n",
    "        \n",
    "        k = k % len(list_of_num_in_grid)   # No. of times we shift the grid is equal to number of items in the grid \n",
    "                                           # then the grid remains unchanged. \n",
    "                                           # To get the minimal shifts do (given no of shifts) % (No. of items in grid)\n",
    "        move=len(list_of_num_in_grid)-k    # Calculate move which helps in slicing the list based on the no of shifts\n",
    "        result=grid\n",
    "        count=0\n",
    "        list_of_num_in_grid = list_of_num_in_grid[move:] + list_of_num_in_grid[:move] # shiftinf the items in the list\n",
    "        for i in range(0,len(list_of_num_in_grid),number_of_col): # converting list back to grid\n",
    "            result[count]=list_of_num_in_grid[i:i+number_of_col]\n",
    "            count+=1\n",
    "        return result\n",
    "        \n",
    "input = [[1,2,3],[4,5,6],[7,8,9]]\n",
    "object1 = Solution()\n",
    "print(object1.shiftGrid(input, 9)) # Shift by one"
   ]
  }
 ],
 "metadata": {
  "kernelspec": {
   "display_name": "Python 3 (ipykernel)",
   "language": "python",
   "name": "python3"
  },
  "language_info": {
   "codemirror_mode": {
    "name": "ipython",
    "version": 3
   },
   "file_extension": ".py",
   "mimetype": "text/x-python",
   "name": "python",
   "nbconvert_exporter": "python",
   "pygments_lexer": "ipython3",
   "version": "3.9.7"
  }
 },
 "nbformat": 4,
 "nbformat_minor": 5
}
